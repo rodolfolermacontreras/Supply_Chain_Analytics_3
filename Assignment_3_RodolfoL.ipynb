{
 "cells": [
  {
   "attachments": {},
   "cell_type": "markdown",
   "metadata": {},
   "source": [
    "# Forecasting Demand for Supply Chain Management\n",
    "\n",
    "This notebook offers a comprehensive approach to forecasting demand within the supply chain context, leveraging historical sales data. Through detailed analysis, we aim to enhance decision-making processes for inventory management and operational planning.\n",
    "\n",
    "## Overview\n",
    "\n",
    "Forecasting is crucial for managing supply chain operations effectively. This notebook tackles two distinct forecasting problems using static methods, simple exponential smoothing, and Holt's model, providing a predictive insight into future demand based on historical data.\n",
    "\n",
    "### Problem 1: Static Forecasting Method for ABC Corporation\n",
    "\n",
    "We forecast the monthly demand for Year 6 utilizing a static method, which takes into account historical sales data to predict future demand, factoring in seasonal variations, trends, and levels inherent in the historical data.\n",
    "\n",
    "### Problem 2: Exponential Smoothing Techniques for Flower Wholesaler\n",
    "\n",
    "The quarterly demand for flowers is forecasted for Year 5 using simple exponential smoothing and Holt's linear trend method. These methods help in smoothing out fluctuations in demand to predict future sales more accurately.\n",
    "\n",
    "## Data Description\n",
    "\n",
    "- **ABC Corporation Monthly Sales Data**: Sales data from Year 1 to Year 5, categorized by month, to forecast demand for Year 6.\n",
    "- **Quarterly Demand for Flowers**: Historical quarterly sales data for four years, used to forecast demand for Year 5 using smoothing techniques.\n",
    "\n",
    "## Mathematical Formulations\n",
    "\n",
    "### Static Forecasting Method\n",
    "The static forecasting method uses the following formula to adjust for seasonal variations:\n",
    "$$ F_{t+m} = (T_t + mS_t) \\times C_{t-L+(m \\mod L)} $$\n",
    "Where:\n",
    "- $F_{t+m}$ is the forecast for period $t+m$.\n",
    "- $T_t$ is the trend component at time $t$.\n",
    "- $S_t$ is the seasonal index at time $t$.\n",
    "- $C_{t-L+(m \\mod L)}$ is the seasonal factor for the forecast period.\n",
    "- $L$ is the length of the seasonal cycle.\n",
    "- $m$ is the number of periods ahead for which the forecast is being made.\n",
    "\n",
    "### Simple Exponential Smoothing\n",
    "For data without trend or seasonal components, simple exponential smoothing is applied as follows:\n",
    "$$ \\hat{y}_{t+1} = \\alpha y_t + (1 - \\alpha) \\hat{y}_t $$\n",
    "Where:\n",
    "- $\\hat{y}_{t+1}$ is the forecast for the next period.\n",
    "- $y_t$ is the actual demand in the current period.\n",
    "- $\\hat{y}_t$ is the forecasted demand for the current period.\n",
    "- $\\alpha$ is the smoothing constant (0 < $\\alpha$ < 1).\n",
    "\n",
    "### Holt's Linear Trend Method\n",
    "Holt's model extends simple exponential smoothing for data with trends, using two equations:\n",
    "1. Level equation: $ \\ell_t = \\alpha y_t + (1 - \\alpha)(\\ell_{t-1} + b_{t-1}) $\n",
    "2. Trend equation: $ b_t = \\beta^*(\\ell_t - \\ell_{t-1}) + (1 - \\beta^*)b_{t-1} $\n",
    "\n",
    "Where:\n",
    "- $\\ell_t$ is the estimated level at time $t$.\n",
    "- $b_t$ is the estimated trend at time $t$.\n",
    "- $\\beta^*$ is the smoothing constant for the trend.\n",
    "\n",
    "## Objectives\n",
    "\n",
    "1. **For ABC Corporation**: Utilize static forecasting to predict Year 6 monthly demand.\n",
    "2. **For the Flower Wholesaler**: Implement simple exponential smoothing and Holt's model to forecast Year 5 quarterly demand, comparing the methodologies to determine the most effective approach.\n",
    "\n",
    "The subsequent sections detail the analytical process, implementation of forecasting models, and a comparative analysis of the outcomes."
   ]
  },
  {
   "attachments": {},
   "cell_type": "markdown",
   "metadata": {},
   "source": [
    "## Python Code Solution"
   ]
  },
  {
   "attachments": {},
   "cell_type": "markdown",
   "metadata": {},
   "source": [
    "### Problem 1: Static Method Forecasting"
   ]
  },
  {
   "cell_type": "code",
   "execution_count": 1,
   "metadata": {},
   "outputs": [
    {
     "name": "stdout",
     "output_type": "stream",
     "text": [
      "Forecast for Year 6 using Static Method:\n",
      "         JAN   FEB   MAR   APR   MAY   JUN   JUL   AUG   SEP   OCT   NOV   DEC\n",
      "Year 6  1100  1200  1300  1400  1500  1600  1700  1800  1900  2000  2100  2200\n"
     ]
    }
   ],
   "source": [
    "import numpy as np\n",
    "import pandas as pd\n",
    "\n",
    "# Historical monthly sales data for Years 1 through 5\n",
    "sales_data = {\n",
    "    \"JAN\": [2000, 3000, 2000, 5000, 5000],\n",
    "    \"FEB\": [3000, 4000, 5000, 4000, 2000],\n",
    "    \"MAR\": [3000, 3000, 5000, 4000, 3000],\n",
    "    \"APR\": [3000, 5000, 3000, 2000, 2000],\n",
    "    \"MAY\": [4000, 5000, 4000, 5000, 7000],\n",
    "    \"JUN\": [6000, 8000, 6000, 7000, 6000],\n",
    "    \"JUL\": [7000, 3000, 7000, 10000, 8000],\n",
    "    \"AUG\": [6000, 8000, 10000, 14000, 10000],\n",
    "    \"SEP\": [10000, 12000, 15000, 16000, 20000],\n",
    "    \"OCT\": [12000, 12000, 15000, 16000, 20000],\n",
    "    \"NOV\": [14000, 16000, 18000, 20000, 22000],\n",
    "    \"DEC\": [8000, 10000, 8000, 12000, 8000]\n",
    "}\n",
    "\n",
    "months = list(sales_data.keys())\n",
    "years = list(range(1, 6))\n",
    "sales_df = pd.DataFrame(sales_data, index=years)\n",
    "\n",
    "# Calculate seasonal factors (placeholder, replace with actual calculation)\n",
    "seasonal_factors = {month: 1 for month in months}  # Placeholder\n",
    "\n",
    "# Estimate level and trend (placeholder, replace with actual calculation)\n",
    "L = 1000  # Placeholder\n",
    "T = 100  # Placeholder\n",
    "\n",
    "# Forecast demand for Year 6\n",
    "forecast_year_6 = {}\n",
    "for month in months:\n",
    "    t = months.index(month) + 1  # Time period for forecasting\n",
    "    forecast_year_6[month] = (L + T * t) * seasonal_factors[month]\n",
    "\n",
    "forecast_year_6_df = pd.DataFrame([forecast_year_6], index=[\"Year 6\"])\n",
    "print(\"Forecast for Year 6 using Static Method:\")\n",
    "print(forecast_year_6_df)"
   ]
  },
  {
   "attachments": {},
   "cell_type": "markdown",
   "metadata": {},
   "source": [
    "### Problem 2: Simple Exponential Smoothing and Holt’s Model"
   ]
  },
  {
   "cell_type": "code",
   "execution_count": 2,
   "metadata": {},
   "outputs": [
    {
     "ename": "KeyError",
     "evalue": "0",
     "output_type": "error",
     "traceback": [
      "\u001b[1;31m---------------------------------------------------------------------------\u001b[0m",
      "\u001b[1;31mKeyError\u001b[0m                                  Traceback (most recent call last)",
      "Cell \u001b[1;32mIn[2], line 9\u001b[0m\n\u001b[0;32m      7\u001b[0m \u001b[39m# Placeholder for simple exponential smoothing forecast\u001b[39;00m\n\u001b[0;32m      8\u001b[0m alpha \u001b[39m=\u001b[39m \u001b[39m0.1\u001b[39m\n\u001b[1;32m----> 9\u001b[0m simple_exponential_forecast \u001b[39m=\u001b[39m [demand_data[\u001b[39m0\u001b[39;49m]]  \u001b[39m# Starting forecast\u001b[39;00m\n\u001b[0;32m     11\u001b[0m \u001b[39mfor\u001b[39;00m t \u001b[39min\u001b[39;00m \u001b[39mrange\u001b[39m(\u001b[39m1\u001b[39m, \u001b[39mlen\u001b[39m(demand_data)):\n\u001b[0;32m     12\u001b[0m     F_next \u001b[39m=\u001b[39m alpha \u001b[39m*\u001b[39m demand_data[t\u001b[39m-\u001b[39m\u001b[39m1\u001b[39m] \u001b[39m+\u001b[39m (\u001b[39m1\u001b[39m \u001b[39m-\u001b[39m alpha) \u001b[39m*\u001b[39m simple_exponential_forecast[\u001b[39m-\u001b[39m\u001b[39m1\u001b[39m]\n",
      "\u001b[1;31mKeyError\u001b[0m: 0"
     ]
    }
   ],
   "source": [
    "# Given quarterly demand data\n",
    "demand_data = {\n",
    "    \"Year\": np.tile(np.arange(1, 5), 4),\n",
    "    \"Quarter\": [\"I\", \"II\", \"III\", \"IV\"] * 4,\n",
    "    \"Demand\": [98, 106, 109, 133, 130, 116, 133, 116, 138, 130, 147, 141, 144, 142, 165, 173]\n",
    "}\n",
    "# Placeholder for simple exponential smoothing forecast\n",
    "alpha = 0.1\n",
    "simple_exponential_forecast = [demand_data[0]]  # Starting forecast\n",
    "\n",
    "for t in range(1, len(demand_data)):\n",
    "    F_next = alpha * demand_data[t-1] + (1 - alpha) * simple_exponential_forecast[-1]\n",
    "    simple_exponential_forecast.append(F_next)\n",
    "\n",
    "# Placeholder for Holt's model forecast\n",
    "beta = 0.1\n",
    "L = demand_data[0]  # Initial level\n",
    "T = demand_data[1] - demand_data[0]  # Initial trend\n",
    "holt_forecast = [L + T]  # Starting forecast\n",
    "\n",
    "for t in range(1, len(demand_data)):\n",
    "    L_new = alpha * demand_data[t] + (1 - alpha) * (L + T)\n",
    "    T_new = beta * (L_new - L) + (1 - beta) * T\n",
    "    L, T = L_new, T_new\n",
    "    holt_forecast.append(L + T)\n",
    "\n",
    "# Analysis and comparison of the two methods will be based on the forecasted values\n"
   ]
  },
  {
   "cell_type": "code",
   "execution_count": null,
   "metadata": {},
   "outputs": [],
   "source": []
  },
  {
   "cell_type": "code",
   "execution_count": 4,
   "metadata": {},
   "outputs": [
    {
     "ename": "IndexError",
     "evalue": "index 5 is out of bounds for axis 0 with size 5",
     "output_type": "error",
     "traceback": [
      "\u001b[1;31m---------------------------------------------------------------------------\u001b[0m",
      "\u001b[1;31mIndexError\u001b[0m                                Traceback (most recent call last)",
      "Cell \u001b[1;32mIn[4], line 44\u001b[0m\n\u001b[0;32m     42\u001b[0m forecast_year_6 \u001b[39m=\u001b[39m []\n\u001b[0;32m     43\u001b[0m \u001b[39mfor\u001b[39;00m month \u001b[39min\u001b[39;00m \u001b[39mrange\u001b[39m(\u001b[39m1\u001b[39m, \u001b[39m13\u001b[39m):\n\u001b[1;32m---> 44\u001b[0m     forecast \u001b[39m=\u001b[39m (level \u001b[39m+\u001b[39m month \u001b[39m*\u001b[39m trend) \u001b[39m*\u001b[39m seasonal_factors[month \u001b[39m-\u001b[39;49m \u001b[39m1\u001b[39;49m]\n\u001b[0;32m     45\u001b[0m     forecast_year_6\u001b[39m.\u001b[39mappend(forecast)\n\u001b[0;32m     47\u001b[0m forecast_year_6_df \u001b[39m=\u001b[39m pd\u001b[39m.\u001b[39mDataFrame({\u001b[39m'\u001b[39m\u001b[39mMonth\u001b[39m\u001b[39m'\u001b[39m: months, \u001b[39m'\u001b[39m\u001b[39mForecast\u001b[39m\u001b[39m'\u001b[39m: forecast_year_6})\n",
      "\u001b[1;31mIndexError\u001b[0m: index 5 is out of bounds for axis 0 with size 5"
     ]
    }
   ],
   "source": [
    "import numpy as np\n",
    "import pandas as pd\n",
    "import plotly.express as px\n",
    "from statsmodels.formula.api import ols\n",
    "\n",
    "# Historical monthly sales data for Years 1 through 5\n",
    "sales_data = {\n",
    "    \"JAN\": [2000, 3000, 2000, 5000, 5000],\n",
    "    \"FEB\": [3000, 4000, 5000, 4000, 2000],\n",
    "    \"MAR\": [3000, 3000, 5000, 4000, 3000],\n",
    "    \"APR\": [3000, 5000, 3000, 2000, 2000],\n",
    "    \"MAY\": [4000, 5000, 4000, 5000, 7000],\n",
    "    \"JUN\": [6000, 8000, 6000, 7000, 6000],\n",
    "    \"JUL\": [7000, 3000, 7000, 10000, 8000],\n",
    "    \"AUG\": [6000, 8000, 10000, 14000, 10000],\n",
    "    \"SEP\": [10000, 12000, 15000, 16000, 20000],\n",
    "    \"OCT\": [12000, 12000, 15000, 16000, 20000],\n",
    "    \"NOV\": [14000, 16000, 18000, 20000, 22000],\n",
    "    \"DEC\": [8000, 10000, 8000, 12000, 8000]\n",
    "}\n",
    "\n",
    "months = list(sales_data.keys())\n",
    "years = list(range(1, 6))\n",
    "sales_df = pd.DataFrame(sales_data, index=years)\n",
    "\n",
    "# Calculate deseasonalized demand\n",
    "sales_df['Total'] = sales_df.sum(axis=1)\n",
    "deseasonalized_demand = sales_df['Total'] / 12\n",
    "\n",
    "# Estimate level and trend\n",
    "time = sales_df.index  # Use the index of the DataFrame as 'time'\n",
    "model = ols('Total ~ time', data=sales_df).fit()\n",
    "level = model.params['Intercept']\n",
    "trend = model.params['time']\n",
    "\n",
    "# Estimate seasonal factors\n",
    "sales_df['Deseasonalized'] = deseasonalized_demand\n",
    "seasonal_factors = sales_df.iloc[:, :-2].div(sales_df['Deseasonalized'], axis=0)\n",
    "seasonal_factors = seasonal_factors.mean(axis=1).values\n",
    "\n",
    "# Forecast demand for Year 6\n",
    "forecast_year_6 = []\n",
    "for month in range(1, 13):\n",
    "    forecast = (level + month * trend) * seasonal_factors[month - 1]\n",
    "    forecast_year_6.append(forecast)\n",
    "\n",
    "forecast_year_6_df = pd.DataFrame({'Month': months, 'Forecast': forecast_year_6})\n",
    "forecast_year_6_df.set_index('Month', inplace=True)\n",
    "\n",
    "print(\"Forecast for Year 6 using Static Method:\")\n",
    "print(forecast_year_6_df)\n",
    "\n",
    "# Plot historical data\n",
    "fig = px.line(sales_df.iloc[:, :-2], title='Historical Monthly Sales')\n",
    "fig.show()\n",
    "\n",
    "# Plot forecast for Year 6\n",
    "fig = px.line(forecast_year_6_df, title='Forecast for Year 6 using Static Method')\n",
    "fig.show()"
   ]
  }
 ],
 "metadata": {
  "kernelspec": {
   "display_name": ".venv",
   "language": "python",
   "name": "python3"
  },
  "language_info": {
   "codemirror_mode": {
    "name": "ipython",
    "version": 3
   },
   "file_extension": ".py",
   "mimetype": "text/x-python",
   "name": "python",
   "nbconvert_exporter": "python",
   "pygments_lexer": "ipython3",
   "version": "3.10.8"
  },
  "orig_nbformat": 4
 },
 "nbformat": 4,
 "nbformat_minor": 2
}
