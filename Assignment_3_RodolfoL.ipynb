{
 "cells": [
  {
   "attachments": {},
   "cell_type": "markdown",
   "metadata": {},
   "source": [
    "# Forecasting Demand for Supply Chain Management\n",
    "\n",
    "This notebook offers a comprehensive approach to forecasting demand within the supply chain context, leveraging historical sales data. Through detailed analysis, we aim to enhance decision-making processes for inventory management and operational planning.\n",
    "\n",
    "## Overview\n",
    "\n",
    "Forecasting is crucial for managing supply chain operations effectively. This notebook tackles two distinct forecasting problems using static methods, simple exponential smoothing, and Holt's model, providing a predictive insight into future demand based on historical data.\n",
    "\n",
    "### Problem 1: Static Forecasting Method for ABC Corporation\n",
    "\n",
    "We forecast the monthly demand for Year 6 utilizing a static method, which takes into account historical sales data to predict future demand, factoring in seasonal variations, trends, and levels inherent in the historical data.\n",
    "\n",
    "### Problem 2: Exponential Smoothing Techniques for Flower Wholesaler\n",
    "\n",
    "The quarterly demand for flowers is forecasted for Year 5 using simple exponential smoothing and Holt's linear trend method. These methods help in smoothing out fluctuations in demand to predict future sales more accurately.\n",
    "\n",
    "## Data Description\n",
    "\n",
    "- **ABC Corporation Monthly Sales Data**: Sales data from Year 1 to Year 5, categorized by month, to forecast demand for Year 6.\n",
    "- **Quarterly Demand for Flowers**: Historical quarterly sales data for four years, used to forecast demand for Year 5 using smoothing techniques.\n",
    "\n",
    "## Mathematical Formulations\n",
    "\n",
    "### Static Forecasting Method\n",
    "The static forecasting method uses the following formula to adjust for seasonal variations:\n",
    "$$ F_{t+m} = (T_t + mS_t) \\times C_{t-L+(m \\mod L)} $$\n",
    "Where:\n",
    "- $F_{t+m}$ is the forecast for period $t+m$.\n",
    "- $T_t$ is the trend component at time $t$.\n",
    "- $S_t$ is the seasonal index at time $t$.\n",
    "- $C_{t-L+(m \\mod L)}$ is the seasonal factor for the forecast period.\n",
    "- $L$ is the length of the seasonal cycle.\n",
    "- $m$ is the number of periods ahead for which the forecast is being made.\n",
    "\n",
    "### Simple Exponential Smoothing\n",
    "For data without trend or seasonal components, simple exponential smoothing is applied as follows:\n",
    "$$ \\hat{y}_{t+1} = \\alpha y_t + (1 - \\alpha) \\hat{y}_t $$\n",
    "Where:\n",
    "- $\\hat{y}_{t+1}$ is the forecast for the next period.\n",
    "- $y_t$ is the actual demand in the current period.\n",
    "- $\\hat{y}_t$ is the forecasted demand for the current period.\n",
    "- $\\alpha$ is the smoothing constant (0 < $\\alpha$ < 1).\n",
    "\n",
    "### Holt's Linear Trend Method\n",
    "Holt's model extends simple exponential smoothing for data with trends, using two equations:\n",
    "1. Level equation: $ \\ell_t = \\alpha y_t + (1 - \\alpha)(\\ell_{t-1} + b_{t-1}) $\n",
    "2. Trend equation: $ b_t = \\beta^*(\\ell_t - \\ell_{t-1}) + (1 - \\beta^*)b_{t-1} $\n",
    "\n",
    "Where:\n",
    "- $\\ell_t$ is the estimated level at time $t$.\n",
    "- $b_t$ is the estimated trend at time $t$.\n",
    "- $\\beta^*$ is the smoothing constant for the trend.\n",
    "\n",
    "## Objectives\n",
    "\n",
    "1. **For ABC Corporation**: Utilize static forecasting to predict Year 6 monthly demand.\n",
    "2. **For the Flower Wholesaler**: Implement simple exponential smoothing and Holt's model to forecast Year 5 quarterly demand, comparing the methodologies to determine the most effective approach.\n",
    "\n",
    "The subsequent sections detail the analytical process, implementation of forecasting models, and a comparative analysis of the outcomes."
   ]
  },
  {
   "attachments": {},
   "cell_type": "markdown",
   "metadata": {},
   "source": [
    "## Python Code Solution"
   ]
  },
  {
   "attachments": {},
   "cell_type": "markdown",
   "metadata": {},
   "source": [
    "### Problem 1: Static Method Forecasting\n",
    "Consider monthly demand for the ABC Corporation, as shown in Table A3.1. Forecast the monthly demand for Year 6 using the static method for forecasting"
   ]
  },
  {
   "cell_type": "code",
   "execution_count": 57,
   "metadata": {},
   "outputs": [
    {
     "data": {
      "application/vnd.plotly.v1+json": {
       "config": {
        "plotlyServerURL": "https://plot.ly"
       },
       "data": [
        {
         "line": {
          "color": "blue"
         },
         "mode": "lines",
         "name": "Year 1",
         "type": "scatter",
         "x": [
          "JAN",
          "FEB",
          "MAR",
          "APR",
          "MAY",
          "JUN",
          "JUL",
          "AUG",
          "SEP",
          "OCT",
          "NOV",
          "DEC"
         ],
         "y": [
          2000,
          3000,
          3000,
          3000,
          4000,
          6000,
          7000,
          6000,
          10000,
          12000,
          14000,
          8000
         ]
        },
        {
         "line": {
          "color": "blue"
         },
         "mode": "lines",
         "name": "Year 2",
         "type": "scatter",
         "x": [
          "JAN",
          "FEB",
          "MAR",
          "APR",
          "MAY",
          "JUN",
          "JUL",
          "AUG",
          "SEP",
          "OCT",
          "NOV",
          "DEC"
         ],
         "y": [
          3000,
          4000,
          3000,
          5000,
          5000,
          8000,
          3000,
          8000,
          12000,
          12000,
          16000,
          10000
         ]
        },
        {
         "line": {
          "color": "blue"
         },
         "mode": "lines",
         "name": "Year 3",
         "type": "scatter",
         "x": [
          "JAN",
          "FEB",
          "MAR",
          "APR",
          "MAY",
          "JUN",
          "JUL",
          "AUG",
          "SEP",
          "OCT",
          "NOV",
          "DEC"
         ],
         "y": [
          2000,
          5000,
          5000,
          3000,
          4000,
          6000,
          7000,
          10000,
          15000,
          15000,
          18000,
          8000
         ]
        },
        {
         "line": {
          "color": "blue"
         },
         "mode": "lines",
         "name": "Year 4",
         "type": "scatter",
         "x": [
          "JAN",
          "FEB",
          "MAR",
          "APR",
          "MAY",
          "JUN",
          "JUL",
          "AUG",
          "SEP",
          "OCT",
          "NOV",
          "DEC"
         ],
         "y": [
          5000,
          4000,
          4000,
          2000,
          5000,
          7000,
          10000,
          14000,
          16000,
          16000,
          20000,
          12000
         ]
        },
        {
         "line": {
          "color": "blue"
         },
         "mode": "lines",
         "name": "Year 5",
         "type": "scatter",
         "x": [
          "JAN",
          "FEB",
          "MAR",
          "APR",
          "MAY",
          "JUN",
          "JUL",
          "AUG",
          "SEP",
          "OCT",
          "NOV",
          "DEC"
         ],
         "y": [
          5000,
          2000,
          3000,
          2000,
          7000,
          6000,
          8000,
          10000,
          20000,
          20000,
          22000,
          8000
         ]
        },
        {
         "line": {
          "color": "red",
          "dash": "dash"
         },
         "mode": "lines",
         "name": "Average",
         "type": "scatter",
         "x": [
          "JAN",
          "FEB",
          "MAR",
          "APR",
          "MAY",
          "JUN",
          "JUL",
          "AUG",
          "SEP",
          "OCT",
          "NOV",
          "DEC"
         ],
         "y": [
          3400,
          3600,
          3600,
          3000,
          5000,
          6600,
          7000,
          9600,
          14600,
          15000,
          18000,
          9200
         ]
        },
        {
         "line": {
          "color": "orange",
          "dash": "dash"
         },
         "mode": "lines+markers",
         "name": "Forecast Year 6",
         "type": "scatter",
         "x": [
          "JAN",
          "FEB",
          "MAR",
          "APR",
          "MAY",
          "JUN",
          "JUL",
          "AUG",
          "SEP",
          "OCT",
          "NOV",
          "DEC"
         ],
         "y": [
          3988.2599712600013,
          4243.285253046135,
          4263.707007111091,
          3570.1073009800402,
          5978.542382279174,
          7929.115827060929,
          8449.377267665674,
          11642.175406495666,
          17788.629988864486,
          18361.080356524115,
          22135.405198153727,
          11365.840472777903
         ]
        }
       ],
       "layout": {
        "template": {
         "data": {
          "bar": [
           {
            "error_x": {
             "color": "#2a3f5f"
            },
            "error_y": {
             "color": "#2a3f5f"
            },
            "marker": {
             "line": {
              "color": "#E5ECF6",
              "width": 0.5
             },
             "pattern": {
              "fillmode": "overlay",
              "size": 10,
              "solidity": 0.2
             }
            },
            "type": "bar"
           }
          ],
          "barpolar": [
           {
            "marker": {
             "line": {
              "color": "#E5ECF6",
              "width": 0.5
             },
             "pattern": {
              "fillmode": "overlay",
              "size": 10,
              "solidity": 0.2
             }
            },
            "type": "barpolar"
           }
          ],
          "carpet": [
           {
            "aaxis": {
             "endlinecolor": "#2a3f5f",
             "gridcolor": "white",
             "linecolor": "white",
             "minorgridcolor": "white",
             "startlinecolor": "#2a3f5f"
            },
            "baxis": {
             "endlinecolor": "#2a3f5f",
             "gridcolor": "white",
             "linecolor": "white",
             "minorgridcolor": "white",
             "startlinecolor": "#2a3f5f"
            },
            "type": "carpet"
           }
          ],
          "choropleth": [
           {
            "colorbar": {
             "outlinewidth": 0,
             "ticks": ""
            },
            "type": "choropleth"
           }
          ],
          "contour": [
           {
            "colorbar": {
             "outlinewidth": 0,
             "ticks": ""
            },
            "colorscale": [
             [
              0,
              "#0d0887"
             ],
             [
              0.1111111111111111,
              "#46039f"
             ],
             [
              0.2222222222222222,
              "#7201a8"
             ],
             [
              0.3333333333333333,
              "#9c179e"
             ],
             [
              0.4444444444444444,
              "#bd3786"
             ],
             [
              0.5555555555555556,
              "#d8576b"
             ],
             [
              0.6666666666666666,
              "#ed7953"
             ],
             [
              0.7777777777777778,
              "#fb9f3a"
             ],
             [
              0.8888888888888888,
              "#fdca26"
             ],
             [
              1,
              "#f0f921"
             ]
            ],
            "type": "contour"
           }
          ],
          "contourcarpet": [
           {
            "colorbar": {
             "outlinewidth": 0,
             "ticks": ""
            },
            "type": "contourcarpet"
           }
          ],
          "heatmap": [
           {
            "colorbar": {
             "outlinewidth": 0,
             "ticks": ""
            },
            "colorscale": [
             [
              0,
              "#0d0887"
             ],
             [
              0.1111111111111111,
              "#46039f"
             ],
             [
              0.2222222222222222,
              "#7201a8"
             ],
             [
              0.3333333333333333,
              "#9c179e"
             ],
             [
              0.4444444444444444,
              "#bd3786"
             ],
             [
              0.5555555555555556,
              "#d8576b"
             ],
             [
              0.6666666666666666,
              "#ed7953"
             ],
             [
              0.7777777777777778,
              "#fb9f3a"
             ],
             [
              0.8888888888888888,
              "#fdca26"
             ],
             [
              1,
              "#f0f921"
             ]
            ],
            "type": "heatmap"
           }
          ],
          "heatmapgl": [
           {
            "colorbar": {
             "outlinewidth": 0,
             "ticks": ""
            },
            "colorscale": [
             [
              0,
              "#0d0887"
             ],
             [
              0.1111111111111111,
              "#46039f"
             ],
             [
              0.2222222222222222,
              "#7201a8"
             ],
             [
              0.3333333333333333,
              "#9c179e"
             ],
             [
              0.4444444444444444,
              "#bd3786"
             ],
             [
              0.5555555555555556,
              "#d8576b"
             ],
             [
              0.6666666666666666,
              "#ed7953"
             ],
             [
              0.7777777777777778,
              "#fb9f3a"
             ],
             [
              0.8888888888888888,
              "#fdca26"
             ],
             [
              1,
              "#f0f921"
             ]
            ],
            "type": "heatmapgl"
           }
          ],
          "histogram": [
           {
            "marker": {
             "pattern": {
              "fillmode": "overlay",
              "size": 10,
              "solidity": 0.2
             }
            },
            "type": "histogram"
           }
          ],
          "histogram2d": [
           {
            "colorbar": {
             "outlinewidth": 0,
             "ticks": ""
            },
            "colorscale": [
             [
              0,
              "#0d0887"
             ],
             [
              0.1111111111111111,
              "#46039f"
             ],
             [
              0.2222222222222222,
              "#7201a8"
             ],
             [
              0.3333333333333333,
              "#9c179e"
             ],
             [
              0.4444444444444444,
              "#bd3786"
             ],
             [
              0.5555555555555556,
              "#d8576b"
             ],
             [
              0.6666666666666666,
              "#ed7953"
             ],
             [
              0.7777777777777778,
              "#fb9f3a"
             ],
             [
              0.8888888888888888,
              "#fdca26"
             ],
             [
              1,
              "#f0f921"
             ]
            ],
            "type": "histogram2d"
           }
          ],
          "histogram2dcontour": [
           {
            "colorbar": {
             "outlinewidth": 0,
             "ticks": ""
            },
            "colorscale": [
             [
              0,
              "#0d0887"
             ],
             [
              0.1111111111111111,
              "#46039f"
             ],
             [
              0.2222222222222222,
              "#7201a8"
             ],
             [
              0.3333333333333333,
              "#9c179e"
             ],
             [
              0.4444444444444444,
              "#bd3786"
             ],
             [
              0.5555555555555556,
              "#d8576b"
             ],
             [
              0.6666666666666666,
              "#ed7953"
             ],
             [
              0.7777777777777778,
              "#fb9f3a"
             ],
             [
              0.8888888888888888,
              "#fdca26"
             ],
             [
              1,
              "#f0f921"
             ]
            ],
            "type": "histogram2dcontour"
           }
          ],
          "mesh3d": [
           {
            "colorbar": {
             "outlinewidth": 0,
             "ticks": ""
            },
            "type": "mesh3d"
           }
          ],
          "parcoords": [
           {
            "line": {
             "colorbar": {
              "outlinewidth": 0,
              "ticks": ""
             }
            },
            "type": "parcoords"
           }
          ],
          "pie": [
           {
            "automargin": true,
            "type": "pie"
           }
          ],
          "scatter": [
           {
            "fillpattern": {
             "fillmode": "overlay",
             "size": 10,
             "solidity": 0.2
            },
            "type": "scatter"
           }
          ],
          "scatter3d": [
           {
            "line": {
             "colorbar": {
              "outlinewidth": 0,
              "ticks": ""
             }
            },
            "marker": {
             "colorbar": {
              "outlinewidth": 0,
              "ticks": ""
             }
            },
            "type": "scatter3d"
           }
          ],
          "scattercarpet": [
           {
            "marker": {
             "colorbar": {
              "outlinewidth": 0,
              "ticks": ""
             }
            },
            "type": "scattercarpet"
           }
          ],
          "scattergeo": [
           {
            "marker": {
             "colorbar": {
              "outlinewidth": 0,
              "ticks": ""
             }
            },
            "type": "scattergeo"
           }
          ],
          "scattergl": [
           {
            "marker": {
             "colorbar": {
              "outlinewidth": 0,
              "ticks": ""
             }
            },
            "type": "scattergl"
           }
          ],
          "scattermapbox": [
           {
            "marker": {
             "colorbar": {
              "outlinewidth": 0,
              "ticks": ""
             }
            },
            "type": "scattermapbox"
           }
          ],
          "scatterpolar": [
           {
            "marker": {
             "colorbar": {
              "outlinewidth": 0,
              "ticks": ""
             }
            },
            "type": "scatterpolar"
           }
          ],
          "scatterpolargl": [
           {
            "marker": {
             "colorbar": {
              "outlinewidth": 0,
              "ticks": ""
             }
            },
            "type": "scatterpolargl"
           }
          ],
          "scatterternary": [
           {
            "marker": {
             "colorbar": {
              "outlinewidth": 0,
              "ticks": ""
             }
            },
            "type": "scatterternary"
           }
          ],
          "surface": [
           {
            "colorbar": {
             "outlinewidth": 0,
             "ticks": ""
            },
            "colorscale": [
             [
              0,
              "#0d0887"
             ],
             [
              0.1111111111111111,
              "#46039f"
             ],
             [
              0.2222222222222222,
              "#7201a8"
             ],
             [
              0.3333333333333333,
              "#9c179e"
             ],
             [
              0.4444444444444444,
              "#bd3786"
             ],
             [
              0.5555555555555556,
              "#d8576b"
             ],
             [
              0.6666666666666666,
              "#ed7953"
             ],
             [
              0.7777777777777778,
              "#fb9f3a"
             ],
             [
              0.8888888888888888,
              "#fdca26"
             ],
             [
              1,
              "#f0f921"
             ]
            ],
            "type": "surface"
           }
          ],
          "table": [
           {
            "cells": {
             "fill": {
              "color": "#EBF0F8"
             },
             "line": {
              "color": "white"
             }
            },
            "header": {
             "fill": {
              "color": "#C8D4E3"
             },
             "line": {
              "color": "white"
             }
            },
            "type": "table"
           }
          ]
         },
         "layout": {
          "annotationdefaults": {
           "arrowcolor": "#2a3f5f",
           "arrowhead": 0,
           "arrowwidth": 1
          },
          "autotypenumbers": "strict",
          "coloraxis": {
           "colorbar": {
            "outlinewidth": 0,
            "ticks": ""
           }
          },
          "colorscale": {
           "diverging": [
            [
             0,
             "#8e0152"
            ],
            [
             0.1,
             "#c51b7d"
            ],
            [
             0.2,
             "#de77ae"
            ],
            [
             0.3,
             "#f1b6da"
            ],
            [
             0.4,
             "#fde0ef"
            ],
            [
             0.5,
             "#f7f7f7"
            ],
            [
             0.6,
             "#e6f5d0"
            ],
            [
             0.7,
             "#b8e186"
            ],
            [
             0.8,
             "#7fbc41"
            ],
            [
             0.9,
             "#4d9221"
            ],
            [
             1,
             "#276419"
            ]
           ],
           "sequential": [
            [
             0,
             "#0d0887"
            ],
            [
             0.1111111111111111,
             "#46039f"
            ],
            [
             0.2222222222222222,
             "#7201a8"
            ],
            [
             0.3333333333333333,
             "#9c179e"
            ],
            [
             0.4444444444444444,
             "#bd3786"
            ],
            [
             0.5555555555555556,
             "#d8576b"
            ],
            [
             0.6666666666666666,
             "#ed7953"
            ],
            [
             0.7777777777777778,
             "#fb9f3a"
            ],
            [
             0.8888888888888888,
             "#fdca26"
            ],
            [
             1,
             "#f0f921"
            ]
           ],
           "sequentialminus": [
            [
             0,
             "#0d0887"
            ],
            [
             0.1111111111111111,
             "#46039f"
            ],
            [
             0.2222222222222222,
             "#7201a8"
            ],
            [
             0.3333333333333333,
             "#9c179e"
            ],
            [
             0.4444444444444444,
             "#bd3786"
            ],
            [
             0.5555555555555556,
             "#d8576b"
            ],
            [
             0.6666666666666666,
             "#ed7953"
            ],
            [
             0.7777777777777778,
             "#fb9f3a"
            ],
            [
             0.8888888888888888,
             "#fdca26"
            ],
            [
             1,
             "#f0f921"
            ]
           ]
          },
          "colorway": [
           "#636efa",
           "#EF553B",
           "#00cc96",
           "#ab63fa",
           "#FFA15A",
           "#19d3f3",
           "#FF6692",
           "#B6E880",
           "#FF97FF",
           "#FECB52"
          ],
          "font": {
           "color": "#2a3f5f"
          },
          "geo": {
           "bgcolor": "white",
           "lakecolor": "white",
           "landcolor": "#E5ECF6",
           "showlakes": true,
           "showland": true,
           "subunitcolor": "white"
          },
          "hoverlabel": {
           "align": "left"
          },
          "hovermode": "closest",
          "mapbox": {
           "style": "light"
          },
          "paper_bgcolor": "white",
          "plot_bgcolor": "#E5ECF6",
          "polar": {
           "angularaxis": {
            "gridcolor": "white",
            "linecolor": "white",
            "ticks": ""
           },
           "bgcolor": "#E5ECF6",
           "radialaxis": {
            "gridcolor": "white",
            "linecolor": "white",
            "ticks": ""
           }
          },
          "scene": {
           "xaxis": {
            "backgroundcolor": "#E5ECF6",
            "gridcolor": "white",
            "gridwidth": 2,
            "linecolor": "white",
            "showbackground": true,
            "ticks": "",
            "zerolinecolor": "white"
           },
           "yaxis": {
            "backgroundcolor": "#E5ECF6",
            "gridcolor": "white",
            "gridwidth": 2,
            "linecolor": "white",
            "showbackground": true,
            "ticks": "",
            "zerolinecolor": "white"
           },
           "zaxis": {
            "backgroundcolor": "#E5ECF6",
            "gridcolor": "white",
            "gridwidth": 2,
            "linecolor": "white",
            "showbackground": true,
            "ticks": "",
            "zerolinecolor": "white"
           }
          },
          "shapedefaults": {
           "line": {
            "color": "#2a3f5f"
           }
          },
          "ternary": {
           "aaxis": {
            "gridcolor": "white",
            "linecolor": "white",
            "ticks": ""
           },
           "baxis": {
            "gridcolor": "white",
            "linecolor": "white",
            "ticks": ""
           },
           "bgcolor": "#E5ECF6",
           "caxis": {
            "gridcolor": "white",
            "linecolor": "white",
            "ticks": ""
           }
          },
          "title": {
           "x": 0.05
          },
          "xaxis": {
           "automargin": true,
           "gridcolor": "white",
           "linecolor": "white",
           "ticks": "",
           "title": {
            "standoff": 15
           },
           "zerolinecolor": "white",
           "zerolinewidth": 2
          },
          "yaxis": {
           "automargin": true,
           "gridcolor": "white",
           "linecolor": "white",
           "ticks": "",
           "title": {
            "standoff": 15
           },
           "zerolinecolor": "white",
           "zerolinewidth": 2
          }
         }
        },
        "title": {
         "text": "Historical and Forecasted Monthly Demand for ABC Corporation"
        },
        "xaxis": {
         "tickvals": [
          "JAN",
          "FEB",
          "MAR",
          "APR",
          "MAY",
          "JUN",
          "JUL",
          "AUG",
          "SEP",
          "OCT",
          "NOV",
          "DEC",
          "JAN",
          "FEB",
          "MAR",
          "APR",
          "MAY",
          "JUN",
          "JUL",
          "AUG",
          "SEP",
          "OCT",
          "NOV",
          "DEC",
          "JAN",
          "FEB",
          "MAR",
          "APR",
          "MAY",
          "JUN",
          "JUL",
          "AUG",
          "SEP",
          "OCT",
          "NOV",
          "DEC",
          "JAN",
          "FEB",
          "MAR",
          "APR",
          "MAY",
          "JUN",
          "JUL",
          "AUG",
          "SEP",
          "OCT",
          "NOV",
          "DEC",
          "JAN",
          "FEB",
          "MAR",
          "APR",
          "MAY",
          "JUN",
          "JUL",
          "AUG",
          "SEP",
          "OCT",
          "NOV",
          "DEC",
          "JAN",
          "FEB",
          "MAR",
          "APR",
          "MAY",
          "JUN",
          "JUL",
          "AUG",
          "SEP",
          "OCT",
          "NOV",
          "DEC"
         ],
         "title": {
          "text": "Month"
         }
        },
        "yaxis": {
         "title": {
          "text": "Demand"
         }
        }
       }
      }
     },
     "metadata": {},
     "output_type": "display_data"
    }
   ],
   "source": [
    "import pandas as pd\n",
    "import numpy as np\n",
    "import plotly.graph_objects as go\n",
    "from sklearn.linear_model import LinearRegression\n",
    "\n",
    "# Historical monthly sales data for Years 1 through 5\n",
    "sales_data = {\n",
    "    \"JAN\": [2000, 3000, 2000, 5000, 5000],\n",
    "    \"FEB\": [3000, 4000, 5000, 4000, 2000],\n",
    "    \"MAR\": [3000, 3000, 5000, 4000, 3000],\n",
    "    \"APR\": [3000, 5000, 3000, 2000, 2000],\n",
    "    \"MAY\": [4000, 5000, 4000, 5000, 7000],\n",
    "    \"JUN\": [6000, 8000, 6000, 7000, 6000],\n",
    "    \"JUL\": [7000, 3000, 7000, 10000, 8000],\n",
    "    \"AUG\": [6000, 8000, 10000, 14000, 10000],\n",
    "    \"SEP\": [10000, 12000, 15000, 16000, 20000],\n",
    "    \"OCT\": [12000, 12000, 15000, 16000, 20000],\n",
    "    \"NOV\": [14000, 16000, 18000, 20000, 22000],\n",
    "    \"DEC\": [8000, 10000, 8000, 12000, 8000]\n",
    "}\n",
    "\n",
    "# Create DataFrame from the sales data\n",
    "df_sales = pd.DataFrame(sales_data)\n",
    "\n",
    "# Define the periodicity of the data (number of periods in one cycle)\n",
    "periodicity = 12  # Monthly data, so 12 months in a year\n",
    "\n",
    "# Calculate average monthly sales for each month over the 5 years\n",
    "monthly_average = df_sales.mean(axis=0)\n",
    "overall_average = monthly_average.mean()\n",
    "\n",
    "# Calculate seasonal factors\n",
    "seasonal_factors = monthly_average / overall_average\n",
    "\n",
    "# Deseasonalize the data by dividing by the seasonal factors\n",
    "deseasonalized_sales = df_sales / seasonal_factors\n",
    "\n",
    "# Prepare data for linear regression\n",
    "X = np.arange(1, periodicity * 5 + 1).reshape(-1, 1)  # Months as a linear feature, respecting the periodicity\n",
    "y = deseasonalized_sales.values.flatten()\n",
    "\n",
    "# Perform linear regression\n",
    "model = LinearRegression()\n",
    "model.fit(X, y)\n",
    "\n",
    "# Estimate level (L) and trend (T)\n",
    "L = model.intercept_\n",
    "T = model.coef_[0]\n",
    "\n",
    "# Forecast demand for Year 6\n",
    "forecast_year_6 = (L + T * np.arange(periodicity * 5 + 1, periodicity * 6 + 1)).reshape(1, -1) * seasonal_factors.values\n",
    "\n",
    "# Prepare for plotting\n",
    "all_months = list(sales_data.keys()) * 6  # Months including forecast\n",
    "years = ['Year ' + str(y) for y in range(1, 6)] + ['Forecast Year 6']\n",
    "color_map = ['blue', 'blue', 'blue', 'blue', 'blue', 'red']  # Colors for years and forecast\n",
    "\n",
    "# Plot using Plotly\n",
    "fig = go.Figure()\n",
    "\n",
    "# Plot historical data for each year\n",
    "for i, color in zip(range(5), color_map[:-1]):\n",
    "    fig.add_trace(go.Scatter(x=all_months[:12], y=df_sales.iloc[i], mode='lines', name=f'Year {i+1}', line=dict(color=color)))\n",
    "\n",
    "# Plot average historical data\n",
    "fig.add_trace(go.Scatter(x=all_months[:12], y=monthly_average, mode='lines', name='Average', line=dict(color='red', dash='dash')))\n",
    "\n",
    "# Plot forecasted data for Year 6\n",
    "fig.add_trace(go.Scatter(x=all_months[60:], y=forecast_year_6.flatten(), mode='lines+markers', name='Forecast Year 6', line=dict(color='orange', dash='dash')))\n",
    "\n",
    "# Update layout\n",
    "fig.update_layout(title='Historical and Forecasted Monthly Demand for ABC Corporation',\n",
    "                  xaxis_title='Month',\n",
    "                  yaxis_title='Demand',\n",
    "                  xaxis=dict(tickvals=all_months[:72]))  # Include tick values for all months including forecast\n",
    "\n",
    "fig.show()"
   ]
  },
  {
   "cell_type": "code",
   "execution_count": 58,
   "metadata": {},
   "outputs": [
    {
     "name": "stdout",
     "output_type": "stream",
     "text": [
      "Forecasted Monthly Demand for Year 6:\n",
      "------------------------------------------\n",
      "| Month | Demand (rounded) |\n",
      "------------------------------------------\n",
      "| JAN   |    3988 |\n",
      "| FEB   |    4243 |\n",
      "| MAR   |    4264 |\n",
      "| APR   |    3570 |\n",
      "| MAY   |    5979 |\n",
      "| JUN   |    7929 |\n",
      "| JUL   |    8449 |\n",
      "| AUG   |   11642 |\n",
      "| SEP   |   17789 |\n",
      "| OCT   |   18361 |\n",
      "| NOV   |   22135 |\n",
      "| DEC   |   11366 |\n",
      "------------------------------------------\n"
     ]
    }
   ],
   "source": [
    "# Flatten the nested list to ensure it is a single list of integers\n",
    "forecast_year_6 = forecast_year_6.tolist()\n",
    "\n",
    "forecast_year_6 = forecast_year_6[0]\n",
    "\n",
    "months = [\"JAN\", \"FEB\", \"MAR\", \"APR\", \"MAY\", \"JUN\", \"JUL\", \"AUG\", \"SEP\", \"OCT\", \"NOV\", \"DEC\"]\n",
    "\n",
    "# Print the forecast in a formatted table\n",
    "print(\"Forecasted Monthly Demand for Year 6:\")\n",
    "print(\"-\" * 42)\n",
    "print(\"| Month | Demand (rounded) |\")\n",
    "print(\"-\" * 42)\n",
    "for month, forecast in zip(months, forecast_year_6):\n",
    "    # Round the forecast to the nearest integer before formatting\n",
    "    rounded_forecast = round(forecast)\n",
    "    print(f\"| {month:5s} | {rounded_forecast:7d} |\")  # Use 'd' to format rounded integers\n",
    "print(\"-\" * 42)\n"
   ]
  },
  {
   "attachments": {},
   "cell_type": "markdown",
   "metadata": {},
   "source": [
    "### Forecast for Year 6\n",
    "\n",
    "Here are the forecasted demands for ABC Corporation for each month in Year 6, calculated using the static method for forecasting\n",
    "\n",
    "| Month | Forecasted Demand |\n",
    "|-------|-------------------|\n",
    "| JAN   | 3988              |\n",
    "| FEB   | 4243              |\n",
    "| MAR   | 4264              |\n",
    "| APR   | 3570              |\n",
    "| MAY   | 5979              |\n",
    "| JUN   | 7929              |\n",
    "| JUL   | 8449              |\n",
    "| AUG   | 11642             |\n",
    "| SEP   | 17789             |\n",
    "| OCT   | 18361             |\n",
    "| NOV   | 22135             |\n",
    "| DEC   | 11366             |\n",
    "\n",
    "These values are based on historical sales data from the previous five years and account for seasonal variations in demand.\n"
   ]
  },
  {
   "attachments": {},
   "cell_type": "markdown",
   "metadata": {},
   "source": [
    "### Problem 2: Simple Exponential Smoothing and Holt’s Model\n",
    "Quarterly demand for flowers at a wholesaler are as shown in Table A3.2. Forecast quarterly demand for year 5 using simple exponential smoothing with α=0.1 as well as Holt’s model with α=0.1 and β=0.1. Which of the two methods do you prefer? Why?"
   ]
  },
  {
   "cell_type": "code",
   "execution_count": 71,
   "metadata": {},
   "outputs": [
    {
     "data": {
      "text/html": [
       "<div>\n",
       "<style scoped>\n",
       "    .dataframe tbody tr th:only-of-type {\n",
       "        vertical-align: middle;\n",
       "    }\n",
       "\n",
       "    .dataframe tbody tr th {\n",
       "        vertical-align: top;\n",
       "    }\n",
       "\n",
       "    .dataframe thead th {\n",
       "        text-align: right;\n",
       "    }\n",
       "</style>\n",
       "<table border=\"1\" class=\"dataframe\">\n",
       "  <thead>\n",
       "    <tr style=\"text-align: right;\">\n",
       "      <th></th>\n",
       "      <th>Quarter</th>\n",
       "      <th>SES Forecast</th>\n",
       "      <th>Holt's Forecast</th>\n",
       "    </tr>\n",
       "  </thead>\n",
       "  <tbody>\n",
       "    <tr>\n",
       "      <th>0</th>\n",
       "      <td>Year 5 Q1</td>\n",
       "      <td>132.989581</td>\n",
       "      <td>165.114155</td>\n",
       "    </tr>\n",
       "    <tr>\n",
       "      <th>1</th>\n",
       "      <td>Year 5 Q2</td>\n",
       "      <td>136.990622</td>\n",
       "      <td>168.935177</td>\n",
       "    </tr>\n",
       "    <tr>\n",
       "      <th>2</th>\n",
       "      <td>Year 5 Q3</td>\n",
       "      <td>140.591560</td>\n",
       "      <td>172.756199</td>\n",
       "    </tr>\n",
       "    <tr>\n",
       "      <th>3</th>\n",
       "      <td>Year 5 Q4</td>\n",
       "      <td>143.832404</td>\n",
       "      <td>176.577221</td>\n",
       "    </tr>\n",
       "  </tbody>\n",
       "</table>\n",
       "</div>"
      ],
      "text/plain": [
       "     Quarter  SES Forecast  Holt's Forecast\n",
       "0  Year 5 Q1    132.989581       165.114155\n",
       "1  Year 5 Q2    136.990622       168.935177\n",
       "2  Year 5 Q3    140.591560       172.756199\n",
       "3  Year 5 Q4    143.832404       176.577221"
      ]
     },
     "metadata": {},
     "output_type": "display_data"
    }
   ],
   "source": [
    "import pandas as pd\n",
    "import numpy as np\n",
    "from sklearn.linear_model import LinearRegression\n",
    "\n",
    "# Given quarterly demand data\n",
    "data = {\n",
    "    \"Year\": np.repeat(np.arange(1, 5), 4),\n",
    "    \"Quarter\": [\"I\", \"II\", \"III\", \"IV\"] * 4,\n",
    "    \"Demand\": [98, 106, 109, 133, 130, 116, 133, 116, 138, 130, 147, 141, 144, 142, 165, 173]\n",
    "}\n",
    "df = pd.DataFrame(data)\n",
    "\n",
    "# Prepare demand data\n",
    "demands = df['Demand'].values\n",
    "\n",
    "# Parameters for Simple Exponential Smoothing\n",
    "alpha = 0.1\n",
    "simple_exponential_forecast = [demands[0]]  # Initial forecast same as first demand\n",
    "\n",
    "for t in range(1, len(demands)):\n",
    "    F_next = alpha * demands[t-1] + (1 - alpha) * simple_exponential_forecast[-1]\n",
    "    simple_exponential_forecast.append(F_next)\n",
    "\n",
    "# Initial estimates for Holt's model\n",
    "model = LinearRegression()\n",
    "X = np.arange(len(demands)).reshape(-1, 1)\n",
    "model.fit(X, demands)\n",
    "b, a = model.intercept_, model.coef_[0]\n",
    "\n",
    "# Holt's model parameters\n",
    "beta = 0.1\n",
    "L = b  # Initial level\n",
    "T = a  # Initial trend\n",
    "holt_forecast = [L + T]  # Start forecast with initial level plus trend\n",
    "\n",
    "for t in range(1, len(demands)):\n",
    "    L_new = alpha * demands[t] + (1 - alpha) * (L + T)\n",
    "    T_new = beta * (L_new - L) + (1 - beta) * T\n",
    "    L, T = L_new, T_new\n",
    "    holt_forecast.append(L + T)\n",
    "\n",
    "# Create forecast for Year 5\n",
    "# Assuming there are 16 quarters in the provided data, forecast the next four quarters\n",
    "for t in range(16, 20):\n",
    "    next_forecast_ses = alpha * demands[-1] + (1 - alpha) * simple_exponential_forecast[-1]\n",
    "    simple_exponential_forecast.append(next_forecast_ses)\n",
    "    \n",
    "    next_forecast_holt = L + T * (t - 15)\n",
    "    holt_forecast.append(next_forecast_holt)\n",
    "\n",
    "# Show forecast results\n",
    "forecast_df = pd.DataFrame({\n",
    "    \"Quarter\": [\"Year 5 Q1\", \"Year 5 Q2\", \"Year 5 Q3\", \"Year 5 Q4\"],\n",
    "    \"SES Forecast\": simple_exponential_forecast[-4:],\n",
    "    \"Holt's Forecast\": holt_forecast[-4:]\n",
    "})\n",
    "\n",
    "display(forecast_df)"
   ]
  },
  {
   "cell_type": "code",
   "execution_count": 73,
   "metadata": {},
   "outputs": [
    {
     "data": {
      "application/vnd.plotly.v1+json": {
       "config": {
        "plotlyServerURL": "https://plot.ly"
       },
       "data": [
        {
         "line": {
          "color": "blue",
          "dash": "solid"
         },
         "mode": "lines",
         "name": "Demand",
         "type": "scatter",
         "x": [
          "1-I",
          "1-II",
          "1-III",
          "1-IV",
          "2-I",
          "2-II",
          "2-III",
          "2-IV",
          "3-I",
          "3-II",
          "3-III",
          "3-IV",
          "4-I",
          "4-II",
          "4-III",
          "4-IV"
         ],
         "y": [
          98,
          106,
          109,
          133,
          130,
          116,
          133,
          116,
          138,
          130,
          147,
          141,
          144,
          142,
          165,
          173
         ]
        },
        {
         "line": {
          "color": "orange",
          "dash": "dash"
         },
         "mode": "lines",
         "name": "SES Forecast",
         "type": "scatter",
         "x": [
          "5-I",
          "5-II",
          "5-III",
          "5-IV"
         ],
         "y": [
          132.9895805476074,
          136.99062249284668,
          140.59156024356201,
          143.8324042192058
         ]
        },
        {
         "line": {
          "color": "red",
          "dash": "dash"
         },
         "mode": "lines",
         "name": "Holt's Forecast",
         "type": "scatter",
         "x": [
          "5-I",
          "5-II",
          "5-III",
          "5-IV"
         ],
         "y": [
          165.11415520414857,
          168.9351771710261,
          172.75619913790362,
          176.57722110478116
         ]
        },
        {
         "line": {
          "color": "gray",
          "dash": "solid"
         },
         "mode": "lines",
         "name": "SES Connection",
         "showlegend": false,
         "type": "scatter",
         "x": [
          "4-IV",
          "5-I"
         ],
         "y": [
          173,
          132.9895805476074
         ]
        },
        {
         "line": {
          "color": "gray",
          "dash": "solid"
         },
         "mode": "lines",
         "name": "Holt's Connection",
         "showlegend": false,
         "type": "scatter",
         "x": [
          "4-IV",
          "5-I"
         ],
         "y": [
          173,
          165.11415520414857
         ]
        }
       ],
       "layout": {
        "hovermode": "x",
        "legend": {
         "title": {
          "text": "Legend"
         }
        },
        "template": {
         "data": {
          "bar": [
           {
            "error_x": {
             "color": "#2a3f5f"
            },
            "error_y": {
             "color": "#2a3f5f"
            },
            "marker": {
             "line": {
              "color": "#E5ECF6",
              "width": 0.5
             },
             "pattern": {
              "fillmode": "overlay",
              "size": 10,
              "solidity": 0.2
             }
            },
            "type": "bar"
           }
          ],
          "barpolar": [
           {
            "marker": {
             "line": {
              "color": "#E5ECF6",
              "width": 0.5
             },
             "pattern": {
              "fillmode": "overlay",
              "size": 10,
              "solidity": 0.2
             }
            },
            "type": "barpolar"
           }
          ],
          "carpet": [
           {
            "aaxis": {
             "endlinecolor": "#2a3f5f",
             "gridcolor": "white",
             "linecolor": "white",
             "minorgridcolor": "white",
             "startlinecolor": "#2a3f5f"
            },
            "baxis": {
             "endlinecolor": "#2a3f5f",
             "gridcolor": "white",
             "linecolor": "white",
             "minorgridcolor": "white",
             "startlinecolor": "#2a3f5f"
            },
            "type": "carpet"
           }
          ],
          "choropleth": [
           {
            "colorbar": {
             "outlinewidth": 0,
             "ticks": ""
            },
            "type": "choropleth"
           }
          ],
          "contour": [
           {
            "colorbar": {
             "outlinewidth": 0,
             "ticks": ""
            },
            "colorscale": [
             [
              0,
              "#0d0887"
             ],
             [
              0.1111111111111111,
              "#46039f"
             ],
             [
              0.2222222222222222,
              "#7201a8"
             ],
             [
              0.3333333333333333,
              "#9c179e"
             ],
             [
              0.4444444444444444,
              "#bd3786"
             ],
             [
              0.5555555555555556,
              "#d8576b"
             ],
             [
              0.6666666666666666,
              "#ed7953"
             ],
             [
              0.7777777777777778,
              "#fb9f3a"
             ],
             [
              0.8888888888888888,
              "#fdca26"
             ],
             [
              1,
              "#f0f921"
             ]
            ],
            "type": "contour"
           }
          ],
          "contourcarpet": [
           {
            "colorbar": {
             "outlinewidth": 0,
             "ticks": ""
            },
            "type": "contourcarpet"
           }
          ],
          "heatmap": [
           {
            "colorbar": {
             "outlinewidth": 0,
             "ticks": ""
            },
            "colorscale": [
             [
              0,
              "#0d0887"
             ],
             [
              0.1111111111111111,
              "#46039f"
             ],
             [
              0.2222222222222222,
              "#7201a8"
             ],
             [
              0.3333333333333333,
              "#9c179e"
             ],
             [
              0.4444444444444444,
              "#bd3786"
             ],
             [
              0.5555555555555556,
              "#d8576b"
             ],
             [
              0.6666666666666666,
              "#ed7953"
             ],
             [
              0.7777777777777778,
              "#fb9f3a"
             ],
             [
              0.8888888888888888,
              "#fdca26"
             ],
             [
              1,
              "#f0f921"
             ]
            ],
            "type": "heatmap"
           }
          ],
          "heatmapgl": [
           {
            "colorbar": {
             "outlinewidth": 0,
             "ticks": ""
            },
            "colorscale": [
             [
              0,
              "#0d0887"
             ],
             [
              0.1111111111111111,
              "#46039f"
             ],
             [
              0.2222222222222222,
              "#7201a8"
             ],
             [
              0.3333333333333333,
              "#9c179e"
             ],
             [
              0.4444444444444444,
              "#bd3786"
             ],
             [
              0.5555555555555556,
              "#d8576b"
             ],
             [
              0.6666666666666666,
              "#ed7953"
             ],
             [
              0.7777777777777778,
              "#fb9f3a"
             ],
             [
              0.8888888888888888,
              "#fdca26"
             ],
             [
              1,
              "#f0f921"
             ]
            ],
            "type": "heatmapgl"
           }
          ],
          "histogram": [
           {
            "marker": {
             "pattern": {
              "fillmode": "overlay",
              "size": 10,
              "solidity": 0.2
             }
            },
            "type": "histogram"
           }
          ],
          "histogram2d": [
           {
            "colorbar": {
             "outlinewidth": 0,
             "ticks": ""
            },
            "colorscale": [
             [
              0,
              "#0d0887"
             ],
             [
              0.1111111111111111,
              "#46039f"
             ],
             [
              0.2222222222222222,
              "#7201a8"
             ],
             [
              0.3333333333333333,
              "#9c179e"
             ],
             [
              0.4444444444444444,
              "#bd3786"
             ],
             [
              0.5555555555555556,
              "#d8576b"
             ],
             [
              0.6666666666666666,
              "#ed7953"
             ],
             [
              0.7777777777777778,
              "#fb9f3a"
             ],
             [
              0.8888888888888888,
              "#fdca26"
             ],
             [
              1,
              "#f0f921"
             ]
            ],
            "type": "histogram2d"
           }
          ],
          "histogram2dcontour": [
           {
            "colorbar": {
             "outlinewidth": 0,
             "ticks": ""
            },
            "colorscale": [
             [
              0,
              "#0d0887"
             ],
             [
              0.1111111111111111,
              "#46039f"
             ],
             [
              0.2222222222222222,
              "#7201a8"
             ],
             [
              0.3333333333333333,
              "#9c179e"
             ],
             [
              0.4444444444444444,
              "#bd3786"
             ],
             [
              0.5555555555555556,
              "#d8576b"
             ],
             [
              0.6666666666666666,
              "#ed7953"
             ],
             [
              0.7777777777777778,
              "#fb9f3a"
             ],
             [
              0.8888888888888888,
              "#fdca26"
             ],
             [
              1,
              "#f0f921"
             ]
            ],
            "type": "histogram2dcontour"
           }
          ],
          "mesh3d": [
           {
            "colorbar": {
             "outlinewidth": 0,
             "ticks": ""
            },
            "type": "mesh3d"
           }
          ],
          "parcoords": [
           {
            "line": {
             "colorbar": {
              "outlinewidth": 0,
              "ticks": ""
             }
            },
            "type": "parcoords"
           }
          ],
          "pie": [
           {
            "automargin": true,
            "type": "pie"
           }
          ],
          "scatter": [
           {
            "fillpattern": {
             "fillmode": "overlay",
             "size": 10,
             "solidity": 0.2
            },
            "type": "scatter"
           }
          ],
          "scatter3d": [
           {
            "line": {
             "colorbar": {
              "outlinewidth": 0,
              "ticks": ""
             }
            },
            "marker": {
             "colorbar": {
              "outlinewidth": 0,
              "ticks": ""
             }
            },
            "type": "scatter3d"
           }
          ],
          "scattercarpet": [
           {
            "marker": {
             "colorbar": {
              "outlinewidth": 0,
              "ticks": ""
             }
            },
            "type": "scattercarpet"
           }
          ],
          "scattergeo": [
           {
            "marker": {
             "colorbar": {
              "outlinewidth": 0,
              "ticks": ""
             }
            },
            "type": "scattergeo"
           }
          ],
          "scattergl": [
           {
            "marker": {
             "colorbar": {
              "outlinewidth": 0,
              "ticks": ""
             }
            },
            "type": "scattergl"
           }
          ],
          "scattermapbox": [
           {
            "marker": {
             "colorbar": {
              "outlinewidth": 0,
              "ticks": ""
             }
            },
            "type": "scattermapbox"
           }
          ],
          "scatterpolar": [
           {
            "marker": {
             "colorbar": {
              "outlinewidth": 0,
              "ticks": ""
             }
            },
            "type": "scatterpolar"
           }
          ],
          "scatterpolargl": [
           {
            "marker": {
             "colorbar": {
              "outlinewidth": 0,
              "ticks": ""
             }
            },
            "type": "scatterpolargl"
           }
          ],
          "scatterternary": [
           {
            "marker": {
             "colorbar": {
              "outlinewidth": 0,
              "ticks": ""
             }
            },
            "type": "scatterternary"
           }
          ],
          "surface": [
           {
            "colorbar": {
             "outlinewidth": 0,
             "ticks": ""
            },
            "colorscale": [
             [
              0,
              "#0d0887"
             ],
             [
              0.1111111111111111,
              "#46039f"
             ],
             [
              0.2222222222222222,
              "#7201a8"
             ],
             [
              0.3333333333333333,
              "#9c179e"
             ],
             [
              0.4444444444444444,
              "#bd3786"
             ],
             [
              0.5555555555555556,
              "#d8576b"
             ],
             [
              0.6666666666666666,
              "#ed7953"
             ],
             [
              0.7777777777777778,
              "#fb9f3a"
             ],
             [
              0.8888888888888888,
              "#fdca26"
             ],
             [
              1,
              "#f0f921"
             ]
            ],
            "type": "surface"
           }
          ],
          "table": [
           {
            "cells": {
             "fill": {
              "color": "#EBF0F8"
             },
             "line": {
              "color": "white"
             }
            },
            "header": {
             "fill": {
              "color": "#C8D4E3"
             },
             "line": {
              "color": "white"
             }
            },
            "type": "table"
           }
          ]
         },
         "layout": {
          "annotationdefaults": {
           "arrowcolor": "#2a3f5f",
           "arrowhead": 0,
           "arrowwidth": 1
          },
          "autotypenumbers": "strict",
          "coloraxis": {
           "colorbar": {
            "outlinewidth": 0,
            "ticks": ""
           }
          },
          "colorscale": {
           "diverging": [
            [
             0,
             "#8e0152"
            ],
            [
             0.1,
             "#c51b7d"
            ],
            [
             0.2,
             "#de77ae"
            ],
            [
             0.3,
             "#f1b6da"
            ],
            [
             0.4,
             "#fde0ef"
            ],
            [
             0.5,
             "#f7f7f7"
            ],
            [
             0.6,
             "#e6f5d0"
            ],
            [
             0.7,
             "#b8e186"
            ],
            [
             0.8,
             "#7fbc41"
            ],
            [
             0.9,
             "#4d9221"
            ],
            [
             1,
             "#276419"
            ]
           ],
           "sequential": [
            [
             0,
             "#0d0887"
            ],
            [
             0.1111111111111111,
             "#46039f"
            ],
            [
             0.2222222222222222,
             "#7201a8"
            ],
            [
             0.3333333333333333,
             "#9c179e"
            ],
            [
             0.4444444444444444,
             "#bd3786"
            ],
            [
             0.5555555555555556,
             "#d8576b"
            ],
            [
             0.6666666666666666,
             "#ed7953"
            ],
            [
             0.7777777777777778,
             "#fb9f3a"
            ],
            [
             0.8888888888888888,
             "#fdca26"
            ],
            [
             1,
             "#f0f921"
            ]
           ],
           "sequentialminus": [
            [
             0,
             "#0d0887"
            ],
            [
             0.1111111111111111,
             "#46039f"
            ],
            [
             0.2222222222222222,
             "#7201a8"
            ],
            [
             0.3333333333333333,
             "#9c179e"
            ],
            [
             0.4444444444444444,
             "#bd3786"
            ],
            [
             0.5555555555555556,
             "#d8576b"
            ],
            [
             0.6666666666666666,
             "#ed7953"
            ],
            [
             0.7777777777777778,
             "#fb9f3a"
            ],
            [
             0.8888888888888888,
             "#fdca26"
            ],
            [
             1,
             "#f0f921"
            ]
           ]
          },
          "colorway": [
           "#636efa",
           "#EF553B",
           "#00cc96",
           "#ab63fa",
           "#FFA15A",
           "#19d3f3",
           "#FF6692",
           "#B6E880",
           "#FF97FF",
           "#FECB52"
          ],
          "font": {
           "color": "#2a3f5f"
          },
          "geo": {
           "bgcolor": "white",
           "lakecolor": "white",
           "landcolor": "#E5ECF6",
           "showlakes": true,
           "showland": true,
           "subunitcolor": "white"
          },
          "hoverlabel": {
           "align": "left"
          },
          "hovermode": "closest",
          "mapbox": {
           "style": "light"
          },
          "paper_bgcolor": "white",
          "plot_bgcolor": "#E5ECF6",
          "polar": {
           "angularaxis": {
            "gridcolor": "white",
            "linecolor": "white",
            "ticks": ""
           },
           "bgcolor": "#E5ECF6",
           "radialaxis": {
            "gridcolor": "white",
            "linecolor": "white",
            "ticks": ""
           }
          },
          "scene": {
           "xaxis": {
            "backgroundcolor": "#E5ECF6",
            "gridcolor": "white",
            "gridwidth": 2,
            "linecolor": "white",
            "showbackground": true,
            "ticks": "",
            "zerolinecolor": "white"
           },
           "yaxis": {
            "backgroundcolor": "#E5ECF6",
            "gridcolor": "white",
            "gridwidth": 2,
            "linecolor": "white",
            "showbackground": true,
            "ticks": "",
            "zerolinecolor": "white"
           },
           "zaxis": {
            "backgroundcolor": "#E5ECF6",
            "gridcolor": "white",
            "gridwidth": 2,
            "linecolor": "white",
            "showbackground": true,
            "ticks": "",
            "zerolinecolor": "white"
           }
          },
          "shapedefaults": {
           "line": {
            "color": "#2a3f5f"
           }
          },
          "ternary": {
           "aaxis": {
            "gridcolor": "white",
            "linecolor": "white",
            "ticks": ""
           },
           "baxis": {
            "gridcolor": "white",
            "linecolor": "white",
            "ticks": ""
           },
           "bgcolor": "#E5ECF6",
           "caxis": {
            "gridcolor": "white",
            "linecolor": "white",
            "ticks": ""
           }
          },
          "title": {
           "x": 0.05
          },
          "xaxis": {
           "automargin": true,
           "gridcolor": "white",
           "linecolor": "white",
           "ticks": "",
           "title": {
            "standoff": 15
           },
           "zerolinecolor": "white",
           "zerolinewidth": 2
          },
          "yaxis": {
           "automargin": true,
           "gridcolor": "white",
           "linecolor": "white",
           "ticks": "",
           "title": {
            "standoff": 15
           },
           "zerolinecolor": "white",
           "zerolinewidth": 2
          }
         }
        },
        "title": {
         "text": "Demand and Forecast"
        },
        "xaxis": {
         "title": {
          "text": "Year-Quarter"
         }
        },
        "yaxis": {
         "title": {
          "text": "Demand/Forecast"
         }
        }
       }
      }
     },
     "metadata": {},
     "output_type": "display_data"
    }
   ],
   "source": [
    "import plotly.graph_objects as go\n",
    "\n",
    "# Create traces for demand, SES forecast, and Holt's forecast\n",
    "demand_trace = go.Scatter(\n",
    "    x=plot_df[\"Year-Quarter\"][:16],\n",
    "    y=plot_df[\"Demand\"][:16],\n",
    "    mode=\"lines\",\n",
    "    name=\"Demand\",\n",
    "    line=dict(color=\"blue\", dash=\"solid\")\n",
    ")\n",
    "\n",
    "ses_trace = go.Scatter(\n",
    "    x=plot_df[\"Year-Quarter\"][-4:],\n",
    "    y=plot_df[\"SES Forecast\"][-4:],\n",
    "    mode=\"lines\",\n",
    "    name=\"SES Forecast\",\n",
    "    line=dict(color=\"orange\", dash=\"dash\")\n",
    ")\n",
    "\n",
    "holts_trace = go.Scatter(\n",
    "    x=plot_df[\"Year-Quarter\"][-4:],\n",
    "    y=plot_df[\"Holt's Forecast\"][-4:],\n",
    "    mode=\"lines\",\n",
    "    name=\"Holt's Forecast\",\n",
    "    line=dict(color=\"red\", dash=\"dash\")\n",
    ")\n",
    "\n",
    "# Create traces for the gray connection lines\n",
    "ses_connection_trace = go.Scatter(\n",
    "    x=[plot_df[\"Year-Quarter\"][15], plot_df[\"Year-Quarter\"][16]],\n",
    "    y=[plot_df[\"Demand\"][15], plot_df[\"SES Forecast\"][16]],\n",
    "    mode=\"lines\",\n",
    "    name=\"SES Connection\",\n",
    "    line=dict(color=\"gray\", dash=\"solid\"),\n",
    "    showlegend=False\n",
    ")\n",
    "\n",
    "holts_connection_trace = go.Scatter(\n",
    "    x=[plot_df[\"Year-Quarter\"][15], plot_df[\"Year-Quarter\"][16]],\n",
    "    y=[plot_df[\"Demand\"][15], plot_df[\"Holt's Forecast\"][16]],\n",
    "    mode=\"lines\",\n",
    "    name=\"Holt's Connection\",\n",
    "    line=dict(color=\"gray\", dash=\"solid\"),\n",
    "    showlegend=False\n",
    ")\n",
    "\n",
    "# Create the plot using Plotly Graph Objects\n",
    "fig = go.Figure(data=[demand_trace, ses_trace, holts_trace, ses_connection_trace, holts_connection_trace])\n",
    "\n",
    "# Update the layout\n",
    "fig.update_layout(\n",
    "    title=\"Demand and Forecast\",\n",
    "    xaxis_title=\"Year-Quarter\",\n",
    "    yaxis_title=\"Demand/Forecast\",\n",
    "    legend_title=\"Legend\",\n",
    "    hovermode=\"x\"\n",
    ")\n",
    "\n",
    "# Show the plot\n",
    "fig.show()"
   ]
  },
  {
   "attachments": {},
   "cell_type": "markdown",
   "metadata": {},
   "source": [
    "# Forecasting Quarterly Demand for Flowers\n",
    "\n",
    "This section uses historical data to forecast the quarterly demand for flowers at a wholesaler in Year 5 using Simple Exponential Smoothing and Holt's Linear Trend Method. The analysis compares these methods to identify the most suitable approach based on the forecast accuracy and adaptability to the demand trend.\n",
    "\n",
    "## Historical Quarterly Demand for Flowers\n",
    "\n",
    "| Year | Quarter | Demand ($000) |\n",
    "|------|---------|---------------|\n",
    "| 1    | I       | 98            |\n",
    "| 1    | II      | 106           |\n",
    "| 1    | III     | 109           |\n",
    "| 1    | IV      | 133           |\n",
    "| 2    | I       | 130           |\n",
    "| 2    | II      | 116           |\n",
    "| 2    | III     | 133           |\n",
    "| 2    | IV      | 116           |\n",
    "| 3    | I       | 138           |\n",
    "| 3    | II      | 130           |\n",
    "| 3    | III     | 147           |\n",
    "| 3    | IV      | 141           |\n",
    "| 4    | I       | 144           |\n",
    "| 4    | II      | 142           |\n",
    "| 4    | III     | 165           |\n",
    "| 4    | IV      | 173           |\n",
    "\n",
    "## Forecasting Results for Year 5\n",
    "\n",
    "The forecasts for Year 5 using the Simple Exponential Smoothing and Holt's Linear Trend Method are as follows:\n",
    "\n",
    "| Quarter     | SES Forecast | Holt's Forecast |\n",
    "|-------------|--------------|-----------------|\n",
    "| Year 5 Q1   | 132.99       | 165.11          |\n",
    "| Year 5 Q2   | 136.99       | 168.94          |\n",
    "| Year 5 Q3   | 140.59       | 172.76          |\n",
    "| Year 5 Q4   | 143.83       | 176.58          |\n",
    "\n",
    "## Comparative Analysis and Method Preference\n",
    "\n",
    "- **Adaptability to Trends:**\n",
    "  - Holt's Linear Trend Method adapts to the underlying trend in the historical data, making it suitable for data that shows significant changes or trends over time.\n",
    "  - Simple Exponential Smoothing maintains a level forecast, ideal for stable demand without significant fluctuations.\n",
    "\n",
    "- **Forecast Accuracy:**\n",
    "  - Holt’s forecasts account for both level and trend, providing a dynamic prediction that closely aligns with the incremental increases observed in the historical data.\n",
    "  - Simple Exponential Smoothing forecasts tend to lag behind in scenarios where rapid changes occur, as it primarily focuses on smoothing out past data variations.\n",
    "\n",
    "### Conclusion\n",
    "\n",
    "Given the observed trend in the demand data, **Holt's Linear Trend Method** is preferred for the following reasons:\n",
    "\n",
    "1. **Better Trend Adaptation**: It effectively incorporates both recent demand levels and the direction in which the demand is moving, essential for accurate future forecasting.\n",
    "2. **Practical Application**: For a wholesaler, forecasting that accounts for trends can lead to improved inventory management and fulfillment strategies, especially important in industries like floristry where demand can be highly variable and seasonally influenced.\n",
    "\n",
    "This method, therefore, offers a strategic advantage by enabling proactive adjustments to purchasing and stock management in anticipation of future demand changes."
   ]
  }
 ],
 "metadata": {
  "kernelspec": {
   "display_name": ".venv",
   "language": "python",
   "name": "python3"
  },
  "language_info": {
   "codemirror_mode": {
    "name": "ipython",
    "version": 3
   },
   "file_extension": ".py",
   "mimetype": "text/x-python",
   "name": "python",
   "nbconvert_exporter": "python",
   "pygments_lexer": "ipython3",
   "version": "3.10.8"
  },
  "orig_nbformat": 4
 },
 "nbformat": 4,
 "nbformat_minor": 2
}
